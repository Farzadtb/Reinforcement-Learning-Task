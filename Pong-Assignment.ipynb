{
 "cells": [
  {
   "cell_type": "markdown",
   "id": "27e7e21e",
   "metadata": {},
   "source": [
    "# Reinforcement Learning Task"
   ]
  },
  {
   "cell_type": "markdown",
   "id": "17192d95",
   "metadata": {},
   "source": [
    "Here we'll also define a few parameters, one of which, gamma, will determine how much future prizes are discounted\n",
    "by the passage of time, thereby influencing \"how many moves before winning or losing\" we award in the future. \n",
    "Soon, we'll have a more in-depth chat about this."
   ]
  },
  {
   "cell_type": "code",
   "execution_count": 1,
   "id": "c538ea8d",
   "metadata": {},
   "outputs": [],
   "source": [
    "\n",
    "\n",
    "import numpy as np\n",
    "import gym\n",
    "# gym initialization\n",
    "env = gym.make('Pong-v0')\n",
    "observation = env.reset()\n",
    "prev_input = None\n",
    "# Declaring the two actions that can happen in Pong for an agent, move up or move down\n",
    "# Decalring 0 means staying still. Note that this is pre-defined specific to package.\n",
    "UP_ACTION = 2\n",
    "DOWN_ACTION = 3\n",
    "# Hyperparameters. Gamma here allows you to measure the effect of future events\n",
    "gamma = 0.99\n",
    "# initialization of variables used in the main loop\n",
    "x_train, y_train, rewards = [],[],[]\n",
    "reward_sum = 0\n",
    "episode_nb = 0\n"
   ]
  },
  {
   "cell_type": "code",
   "execution_count": 2,
   "id": "1b6f86ce",
   "metadata": {},
   "outputs": [
    {
     "data": {
      "image/png": "[encoded data removed]",
      "text/plain": [
       "<Figure size 432x288 with 1 Axes>"
      ]
     },
     "metadata": {
      "needs_background": "light"
     },
     "output_type": "display_data"
    }
   ],
   "source": [
    "#using the pyplot tool, let's have a look at the Pong a frame, the most fundamental data unit in the context of the game.\n",
    "#In this mode, our own policy model will replace OpenAI's Pong AIs, which power the game's agents.\n",
    "\n",
    "import matplotlib.pyplot as plt\n",
    "env = gym.make('Pong-v0') # environment info\n",
    "observation = env.reset()\n",
    "# The ball is released after 20 frames\n",
    "for i in range(22):\n",
    " \n",
    " if i > 20:\n",
    "     plt.imshow(observation)\n",
    "     plt.show()\n",
    "     observation, _, _, _ = env.step(1)\n"
   ]
  },
  {
   "cell_type": "code",
   "execution_count": 5,
   "id": "6504bc62",
   "metadata": {},
   "outputs": [
    {
     "data": {
      "image/png": "[encoded data removed]",
      "text/plain": [
       "<Figure size 432x288 with 1 Axes>"
      ]
     },
     "metadata": {
      "needs_background": "light"
     },
     "output_type": "display_data"
    }
   ],
   "source": [
    "#We could keep plotting more frames to watch the game's flow by adjusting the range of the loop, but for now we'll forego that.\n",
    "#It's important to keep in mind that the OpenAI gym environment handles tracking incentives internally, \n",
    "#so this frame doesn't need to provide that information. To prepare our frame for a one-dimensional neural network,\n",
    "# we'll crop it and grayscale it before flattening the output.\n",
    "\n",
    "def pre_process(I):\n",
    "# prepro 210x160x3 frame into 6400 (80x80) 1D float vector\n",
    " I = I[35:195] # crop\n",
    " I = I[::2,::2,0] # downsample by factor of 2\n",
    " I[I == 144] = 0 # erase background (background type 1)\n",
    " I[I == 109] = 0 # erase background (background type 2)\n",
    " I[I != 0] = 1 # everything else (paddles, ball) just set to 1\n",
    " return I.astype(float).ravel()\n",
    "#Show\n",
    "preprocessedobs_preprocessed = pre_process(observation).reshape(80,80)\n",
    "plt.imshow(preprocessedobs_preprocessed, cmap='gray')\n",
    "plt.show()\n",
    "\n",
    "\n",
    "\n"
   ]
  },
  {
   "cell_type": "code",
   "execution_count": 6,
   "id": "2fc87f76",
   "metadata": {},
   "outputs": [],
   "source": [
    "#we can include a discount function that uses a decay rate (gamma, defined above) \n",
    "#to split the normalized earned reward among the preceding frames:\n",
    "\n",
    "def dis_rewards(r, gamma):\n",
    "#take 1D float array of rewards and compute discounted reward\n",
    "    r = np.array(r)\n",
    "    discounted_r = np.zeros_like(r)\n",
    "    running_add = 0\n",
    "    \n",
    "    for t in reversed(range(0, r.size)):\n",
    "        if r[t] != 0: running_add = 0 # if the game ended (in Pong), reset \n",
    "        running_add = running_add * gamma + r[t] \n",
    "        discounted_r[t] = running_add\n",
    "    discounted_r -= np.mean(discounted_r) #normalizing the result\n",
    "    discounted_r /= np.std(discounted_r) #idem using standar deviation\n",
    "    return discounted_r\n",
    "\n"
   ]
  },
  {
   "cell_type": "code",
   "execution_count": 7,
   "id": "63f8ae6e",
   "metadata": {},
   "outputs": [
    {
     "name": "stdout",
     "output_type": "stream",
     "text": [
      "Model: \"sequential\"\n",
      "_________________________________________________________________\n",
      " Layer (type)                Output Shape              Param #   \n",
      "=================================================================\n",
      " dense (Dense)               (None, 200)               1280200   \n",
      "                                                                 \n",
      " dense_1 (Dense)             (None, 1)                 201       \n",
      "                                                                 \n",
      "=================================================================\n",
      "Total params: 1,280,401\n",
      "Trainable params: 1,280,401\n",
      "Non-trainable params: 0\n",
      "_________________________________________________________________\n",
      "None\n"
     ]
    }
   ],
   "source": [
    "#Now that we know what we're working with, we can define our model as a two-layer, densely-connected structure. \n",
    "#Our images are pixel-based, thus they can be represented by 1D arrays, making them suitable for a fully-connected neural network.\n",
    "# However, convolutional models are also conceivable (and have considerably fewer parameters).\n",
    "\n",
    "import keras\n",
    "from tensorflow.keras.layers import Input\n",
    "from keras.optimizers import Adam \n",
    "from keras.layers import Dense\n",
    "from keras.layers import Reshape\n",
    "from keras.layers import Conv2D\n",
    "from keras.layers import Flatten\n",
    "from keras.models import Sequential\n",
    "\n",
    "model = Sequential()\n",
    "model.add(Dense(units=200,input_dim=80*80, activation='relu', kernel_initializer='glorot_uniform'))\n",
    "model.add(Dense(units=1, activation='sigmoid', kernel_initializer='RandomNormal'))\n",
    "model.compile(loss='binary_crossentropy', optimizer='adam', metrics=['accuracy'])\n",
    "print(model.summary())\n",
    "\n"
   ]
  },
  {
   "cell_type": "code",
   "execution_count": null,
   "id": "f6fc537f",
   "metadata": {},
   "outputs": [],
   "source": [
    "#Now that we have the model, we can start putting it through its paces in network training. \n",
    "#To kick off the data gathering procedure, let's first use the aforementioned preprocessing method to ready our inputs. \n",
    "#Then, the current network is fed our input and an action, signifying an upward or downward translation, is predicted. \n",
    "#Our datasets are then ready for training after we have appended our x and y variables. \n",
    "#The Pong environment also takes in information about our activities and uses it to calculate and save a reward score.\n",
    "\n",
    "history = []\n",
    "observation = env.reset()\n",
    "prev_input = None\n",
    "while (True):\n",
    " cur_input = pre_process(observation)\n",
    " \n",
    " x = cur_input - prev_input if prev_input is not None else np.zeros(80 * 80)\n",
    " prev_input = cur_input \n",
    " proba = model.predict(np.expand_dims(x, axis=1).T)\n",
    " action = UP_ACTION if np.random.uniform() < proba else DOWN_ACTION\n",
    " y = 1 if action == 2 else 0 \n",
    "x_train.append(x)\n",
    "y_train.append(y)\n",
    "observation, reward, done, info = env.step(action)\n",
    "rewards.append(reward)\n",
    "reward_sum += reward\n"
   ]
  },
  {
   "cell_type": "code",
   "execution_count": 13,
   "id": "3301e112",
   "metadata": {},
   "outputs": [],
   "source": [
    "#If done\n",
    "\n",
    "history.append(reward_sum)\n",
    "print(‘At the end of episode’, episode_nb, ‘the total reward was :’, reward_sum)\n",
    "if episode_nb>=3000 and reward_sum >=-12:\n",
    "break\n",
    "else:\n",
    "episode_nb += 1\n",
    "\n",
    "# training\n",
    "model.fit(x=np.vstack(x_train), y=np.vstack(y_train), verbose=1, sample_weight=dis_rewards(rewards, gamma))\n",
    "\n",
    "\n",
    "# Reinitialization\n",
    "x_train, y_train, rewards = [],[],[]\n",
    "observation = env.reset()\n",
    "reward_sum = 0\n",
    "prev_input = None\n",
    "plt.plot(history)\n",
    "plt.show()\n"
   ]
  },
  {
   "cell_type": "code",
   "execution_count": null,
   "id": "04a90c91",
   "metadata": {},
   "outputs": [],
   "source": []
  }
 ],
 "metadata": {
  "kernelspec": {
   "display_name": "Python 3",
   "language": "python",
   "name": "python3"
  },
  "language_info": {
   "codemirror_mode": {
    "name": "ipython",
    "version": 3
   },
   "file_extension": ".py",
   "mimetype": "text/x-python",
   "name": "python",
   "nbconvert_exporter": "python",
   "pygments_lexer": "ipython3",
   "version": "3.8.8"
  }
 },
 "nbformat": 4,
 "nbformat_minor": 5
}
